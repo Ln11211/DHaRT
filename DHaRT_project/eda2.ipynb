{
 "cells": [
  {
   "cell_type": "code",
   "execution_count": 4,
   "metadata": {},
   "outputs": [],
   "source": [
    "import os\n",
    "import PIL.Image as img\n",
    "from natsort import natsorted"
   ]
  },
  {
   "cell_type": "code",
   "execution_count": 27,
   "metadata": {},
   "outputs": [
    {
     "data": {
      "text/plain": [
       "'c:\\\\Users\\\\user\\\\projects\\\\DHaRT\\\\DHaRT_project\\\\archive\\\\trans'"
      ]
     },
     "execution_count": 27,
     "metadata": {},
     "output_type": "execute_result"
    }
   ],
   "source": [
    "os.chdir('c:\\\\Users\\\\user\\\\projects\\\\DHaRT\\\\DHaRT_project\\\\archive\\\\trans')\n",
    "path=os.getcwd()\n",
    "path"
   ]
  },
  {
   "cell_type": "code",
   "execution_count": 28,
   "metadata": {},
   "outputs": [
    {
     "data": {
      "text/plain": [
       "['1_1.png',\n",
       " '1_2.png',\n",
       " '1_3.png',\n",
       " '1_4.png',\n",
       " '1_5.png',\n",
       " '1_6.png',\n",
       " '1_7.png',\n",
       " '1_8.png',\n",
       " '1_9.png',\n",
       " '1_10.png']"
      ]
     },
     "execution_count": 28,
     "metadata": {},
     "output_type": "execute_result"
    }
   ],
   "source": [
    "items=os.listdir(os.path.join(path,'trans'))\n",
    "items=natsorted(items)\n",
    "items[0:10]"
   ]
  },
  {
   "cell_type": "code",
   "execution_count": 29,
   "metadata": {},
   "outputs": [],
   "source": [
    "for ind,i in enumerate(items):\n",
    "    if ind%10==0:\n",
    "        os.mkdir(os.path.join(path,str(ind//10)))\n",
    "    os.rename(os.path.join(path,'trans',i),os.path.join(path,str(ind//10),i))"
   ]
  },
  {
   "cell_type": "markdown",
   "metadata": {},
   "source": []
  },
  {
   "cell_type": "code",
   "execution_count": null,
   "metadata": {},
   "outputs": [],
   "source": []
  }
 ],
 "metadata": {
  "kernelspec": {
   "display_name": "dlstuff",
   "language": "python",
   "name": "python3"
  },
  "language_info": {
   "codemirror_mode": {
    "name": "ipython",
    "version": 3
   },
   "file_extension": ".py",
   "mimetype": "text/x-python",
   "name": "python",
   "nbconvert_exporter": "python",
   "pygments_lexer": "ipython3",
   "version": "3.10.13"
  },
  "orig_nbformat": 4
 },
 "nbformat": 4,
 "nbformat_minor": 2
}
